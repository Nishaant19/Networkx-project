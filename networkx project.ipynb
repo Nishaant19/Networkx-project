{
 "cells": [
  {
   "cell_type": "code",
   "execution_count": 1,
   "id": "de3eb70c",
   "metadata": {},
   "outputs": [],
   "source": [
    "import networkx as nx\n",
    "import matplotlib.pyplot as plt\n",
    "import random"
   ]
  },
  {
   "cell_type": "code",
   "execution_count": 2,
   "id": "60f28028",
   "metadata": {},
   "outputs": [],
   "source": [
    "def create_graph():\n",
    "    g=nx.Graph()\n",
    "    for i in range(1,101):\n",
    "        g.add_node(i)\n",
    "    return g"
   ]
  },
  {
   "cell_type": "code",
   "execution_count": 3,
   "id": "905bfe9b",
   "metadata": {},
   "outputs": [],
   "source": [
    "def visualize(g,label_dict,nodesize,colours):\n",
    "    nx.draw(g,labels=label_dict,node_size=nodesize,node_color=colours)\n",
    "    plt.show()"
   ]
  },
  {
   "cell_type": "code",
   "execution_count": 4,
   "id": "ab758869",
   "metadata": {},
   "outputs": [],
   "source": [
    "def assign_bmi(g):\n",
    "    for i in g.nodes():\n",
    "        g.nodes[i]['name']=random.randint(15,40)\n",
    "        g.nodes[i]['type']='person'"
   ]
  },
  {
   "cell_type": "code",
   "execution_count": 5,
   "id": "699a6919",
   "metadata": {},
   "outputs": [],
   "source": [
    "def labels(g):\n",
    "    dict={}\n",
    "    for i in g.nodes():\n",
    "        dict[i]=g.nodes[i]['name']\n",
    "    return dict"
   ]
  },
  {
   "cell_type": "code",
   "execution_count": 6,
   "id": "fccdeb01",
   "metadata": {},
   "outputs": [],
   "source": [
    "#nodes with high bmi appear big and vice versa and we multiply 20 to scale the graph\n",
    "def node_size(g):\n",
    "    ar=[]\n",
    "    for i in g.nodes():\n",
    "        if(g.nodes[i]['type']=='person'):\n",
    "            ar.append(g.nodes[i]['name']*20)\n",
    "        else:\n",
    "            ar.append(1000)\n",
    "    return ar"
   ]
  },
  {
   "cell_type": "code",
   "execution_count": 7,
   "id": "ae8b4b1c",
   "metadata": {},
   "outputs": [],
   "source": [
    "def add_foci(g):\n",
    "    n=g.number_of_nodes()\n",
    "    i=n+1\n",
    "    foci_node=['gym','eatout','movieclub','karateclub','yogaclub']\n",
    "    for j in range(0,5):\n",
    "        g.add_node(i)\n",
    "        g.nodes[i]['name']=foci_node[j]\n",
    "        g.nodes[i]['type']='foci'\n",
    "        i=i+1"
   ]
  },
  {
   "cell_type": "code",
   "execution_count": 8,
   "id": "e492b08a",
   "metadata": {},
   "outputs": [],
   "source": [
    "def colour(g):\n",
    "    c=[]\n",
    "    for i in g.nodes():\n",
    "        if(g.nodes[i]['type']=='person'):\n",
    "            c.append(\"yellow\")\n",
    "        else:\n",
    "            c.append(\"green\")\n",
    "    return c"
   ]
  },
  {
   "cell_type": "code",
   "execution_count": 9,
   "id": "55d44b1c",
   "metadata": {},
   "outputs": [],
   "source": [
    "def get_foci_nodes():\n",
    "    f=[]\n",
    "    for i in g.nodes():\n",
    "        if g.nodes[i]['type']=='foci':\n",
    "            f.append(i)\n",
    "    return f\n",
    "\n",
    "def get_persons_nodes():\n",
    "    p=[]\n",
    "    for i in g.nodes():\n",
    "        if g.nodes[i]['type']=='person':\n",
    "            p.append(i)\n",
    "    return p\n",
    "\n",
    "def add_foci_edges():\n",
    "    foci_nodes=get_foci_nodes()\n",
    "    person_nodes=get_persons_nodes()\n",
    "    for i in person_nodes:\n",
    "        r=random.choice(foci_nodes)\n",
    "        g.add_edge(i,r)"
   ]
  },
  {
   "cell_type": "code",
   "execution_count": 10,
   "id": "1e1c29fa",
   "metadata": {},
   "outputs": [
    {
     "data": {
      "image/png": "[encoded data removed]",
      "text/plain": [
       "<Figure size 432x288 with 1 Axes>"
      ]
     },
     "metadata": {},
     "output_type": "display_data"
    }
   ],
   "source": [
    "g=create_graph()\n",
    "assign_bmi(g)\n",
    "add_foci(g)\n",
    "label_dict=labels(g)\n",
    "nodesize=node_size(g)\n",
    "colours=colour(g)\n",
    "add_foci_edges()\n",
    "visualize(g,label_dict,nodesize,colours)"
   ]
  },
  {
   "cell_type": "code",
   "execution_count": null,
   "id": "1b8d238b",
   "metadata": {},
   "outputs": [],
   "source": []
  }
 ],
 "metadata": {
  "kernelspec": {
   "display_name": "Python 3 (ipykernel)",
   "language": "python",
   "name": "python3"
  },
  "language_info": {
   "codemirror_mode": {
    "name": "ipython",
    "version": 3
   },
   "file_extension": ".py",
   "mimetype": "text/x-python",
   "name": "python",
   "nbconvert_exporter": "python",
   "pygments_lexer": "ipython3",
   "version": "3.9.12"
  }
 },
 "nbformat": 4,
 "nbformat_minor": 5
}
